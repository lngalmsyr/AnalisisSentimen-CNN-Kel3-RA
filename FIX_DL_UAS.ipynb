{
  "cells": [
    {
      "cell_type": "markdown",
      "metadata": {
        "id": "1S5wo1Bwgjw9"
      },
      "source": [
        "# 1. Download and Imports"
      ]
    },
    {
      "cell_type": "code",
      "execution_count": 34,
      "metadata": {
        "colab": {
          "base_uri": "https://localhost:8080/"
        },
        "execution": {
          "iopub.execute_input": "2022-12-22T10:41:02.226085Z",
          "iopub.status.busy": "2022-12-22T10:41:02.225696Z",
          "iopub.status.idle": "2022-12-22T10:41:33.290326Z",
          "shell.execute_reply": "2022-12-22T10:41:33.289491Z",
          "shell.execute_reply.started": "2022-12-22T10:41:02.225983Z"
        },
        "id": "iayiP3GZrjjk",
        "outputId": "6773bd2e-be60-4c6b-b5b5-d74a962d4e1f",
        "trusted": true
      },
      "outputs": [
        {
          "name": "stdout",
          "output_type": "stream",
          "text": [
            "Requirement already satisfied: contractions in /usr/local/lib/python3.10/dist-packages (0.1.73)\n",
            "Requirement already satisfied: textsearch>=0.0.21 in /usr/local/lib/python3.10/dist-packages (from contractions) (0.0.24)\n",
            "Requirement already satisfied: anyascii in /usr/local/lib/python3.10/dist-packages (from textsearch>=0.0.21->contractions) (0.3.2)\n",
            "Requirement already satisfied: pyahocorasick in /usr/local/lib/python3.10/dist-packages (from textsearch>=0.0.21->contractions) (2.0.0)\n",
            "Requirement already satisfied: textsearch in /usr/local/lib/python3.10/dist-packages (0.0.24)\n",
            "Requirement already satisfied: anyascii in /usr/local/lib/python3.10/dist-packages (from textsearch) (0.3.2)\n",
            "Requirement already satisfied: pyahocorasick in /usr/local/lib/python3.10/dist-packages (from textsearch) (2.0.0)\n",
            "Requirement already satisfied: tqdm in /usr/local/lib/python3.10/dist-packages (4.66.1)\n"
          ]
        },
        {
          "name": "stderr",
          "output_type": "stream",
          "text": [
            "[nltk_data] Downloading package punkt to /root/nltk_data...\n",
            "[nltk_data]   Package punkt is already up-to-date!\n"
          ]
        },
        {
          "data": {
            "text/plain": [
              "True"
            ]
          },
          "execution_count": 34,
          "metadata": {},
          "output_type": "execute_result"
        }
      ],
      "source": [
        "!pip install contractions\n",
        "!pip install textsearch\n",
        "!pip install tqdm\n",
        "import nltk\n",
        "nltk.download('punkt')"
      ]
    },
    {
      "cell_type": "code",
      "execution_count": 35,
      "metadata": {
        "colab": {
          "base_uri": "https://localhost:8080/"
        },
        "execution": {
          "iopub.execute_input": "2022-12-22T10:41:33.292534Z",
          "iopub.status.busy": "2022-12-22T10:41:33.292240Z",
          "iopub.status.idle": "2022-12-22T10:41:37.495037Z",
          "shell.execute_reply": "2022-12-22T10:41:37.494238Z",
          "shell.execute_reply.started": "2022-12-22T10:41:33.292472Z"
        },
        "id": "zcksMUNMgjw_",
        "outputId": "5b2747d3-1a9c-4f04-f5f1-6e8f609115b1",
        "trusted": true
      },
      "outputs": [
        {
          "name": "stdout",
          "output_type": "stream",
          "text": [
            "2.14.0\n"
          ]
        }
      ],
      "source": [
        "import tensorflow as tf\n",
        "print(tf. __version__)"
      ]
    },
    {
      "cell_type": "code",
      "execution_count": 36,
      "metadata": {
        "execution": {
          "iopub.execute_input": "2022-12-22T10:41:37.496912Z",
          "iopub.status.busy": "2022-12-22T10:41:37.496238Z",
          "iopub.status.idle": "2022-12-22T10:41:38.593749Z",
          "shell.execute_reply": "2022-12-22T10:41:38.593024Z",
          "shell.execute_reply.started": "2022-12-22T10:41:37.496878Z"
        },
        "id": "Gbnh0egkUzRX",
        "trusted": true
      },
      "outputs": [],
      "source": [
        "import tensorflow as tf\n",
        "import pandas as pd\n",
        "import numpy as np\n",
        "from tensorflow.keras.models import Sequential\n",
        "from tensorflow.keras.layers import Dense\n",
        "from tensorflow.keras.layers import Dropout\n",
        "from tensorflow.keras.layers import Flatten\n",
        "from tensorflow.keras.layers import Conv1D\n",
        "from tensorflow.keras.layers import MaxPooling1D\n",
        "from tensorflow.keras.layers import Embedding\n",
        "from tensorflow.keras.preprocessing.text import Tokenizer\n",
        "from tensorflow.keras.preprocessing import sequence\n",
        "from sklearn.preprocessing import LabelEncoder\n",
        "\n",
        "from sklearn import metrics\n",
        "from sklearn.metrics import f1_score, accuracy_score,confusion_matrix,classification_report\n",
        "import matplotlib.pyplot as plt\n",
        "import seaborn as sns\n",
        "# Time\n",
        "import time\n",
        "import datetime\n",
        "\n",
        "%matplotlib inline\n",
        "\n",
        "# fix random seed for reproducibility\n",
        "seed = 3541\n",
        "np.random.seed(seed)"
      ]
    },
    {
      "cell_type": "markdown",
      "metadata": {
        "id": "4gSD_ZQWgjxA"
      },
      "source": [
        "# 2. Functions"
      ]
    },
    {
      "cell_type": "code",
      "execution_count": 37,
      "metadata": {
        "execution": {
          "iopub.execute_input": "2022-12-22T10:41:38.596126Z",
          "iopub.status.busy": "2022-12-22T10:41:38.595797Z",
          "iopub.status.idle": "2022-12-22T10:41:38.601120Z",
          "shell.execute_reply": "2022-12-22T10:41:38.600439Z",
          "shell.execute_reply.started": "2022-12-22T10:41:38.596091Z"
        },
        "id": "XrV01K8QgjxB",
        "trusted": true
      },
      "outputs": [],
      "source": [
        "def date_time(x):\n",
        "    if x==1:\n",
        "        return 'Timestamp: {:%Y-%m-%d %H:%M:%S}'.format(datetime.datetime.now())\n",
        "    if x==2:\n",
        "        return 'Timestamp: {:%Y-%b-%d %H:%M:%S}'.format(datetime.datetime.now())\n",
        "    if x==3:\n",
        "        return 'Date now: %s' % datetime.datetime.now()\n",
        "    if x==4:\n",
        "        return 'Date today: %s' % datetime.date.today()"
      ]
    },
    {
      "cell_type": "code",
      "execution_count": 38,
      "metadata": {
        "execution": {
          "iopub.execute_input": "2022-12-22T10:41:38.602627Z",
          "iopub.status.busy": "2022-12-22T10:41:38.602212Z",
          "iopub.status.idle": "2022-12-22T10:41:38.627232Z",
          "shell.execute_reply": "2022-12-22T10:41:38.626406Z",
          "shell.execute_reply.started": "2022-12-22T10:41:38.602587Z"
        },
        "id": "x6DT9-uqgjxC",
        "trusted": true
      },
      "outputs": [],
      "source": [
        "def plot_performance(history=None, figure_directory=None, ylim_pad=[0, 0]):\n",
        "    xlabel = 'Epoch'\n",
        "    legends = ['Training', 'Validation']\n",
        "\n",
        "    plt.figure(figsize=(20, 5))\n",
        "\n",
        "    y1 = history.history['accuracy']\n",
        "    y2 = history.history['val_accuracy']\n",
        "\n",
        "    min_y = min(min(y1), min(y2))-ylim_pad[0]\n",
        "    max_y = max(max(y1), max(y2))+ylim_pad[0]\n",
        "\n",
        "\n",
        "    plt.subplot(121)\n",
        "\n",
        "    plt.plot(y1)\n",
        "    plt.plot(y2)\n",
        "\n",
        "    plt.title('Model Accuracy\\n'+date_time(1), fontsize=17)\n",
        "    plt.xlabel(xlabel, fontsize=15)\n",
        "    plt.ylabel('Accuracy', fontsize=15)\n",
        "    plt.ylim(min_y, max_y)\n",
        "    plt.legend(legends, loc='upper left')\n",
        "    plt.grid()\n",
        "\n",
        "    y1 = history.history['loss']\n",
        "    y2 = history.history['val_loss']\n",
        "\n",
        "    min_y = min(min(y1), min(y2))-ylim_pad[1]\n",
        "    max_y = max(max(y1), max(y2))+ylim_pad[1]\n",
        "\n",
        "\n",
        "    plt.subplot(122)\n",
        "\n",
        "    plt.plot(y1)\n",
        "    plt.plot(y2)\n",
        "\n",
        "    plt.title('Model Loss\\n'+date_time(1), fontsize=17)\n",
        "    plt.xlabel(xlabel, fontsize=15)\n",
        "    plt.ylabel('Loss', fontsize=15)\n",
        "    plt.ylim(min_y, max_y)\n",
        "    plt.legend(legends, loc='upper left')\n",
        "    plt.grid()\n",
        "    if figure_directory:\n",
        "        plt.savefig(figure_directory+\"/history\")\n",
        "\n",
        "    plt.show()"
      ]
    },
    {
      "cell_type": "code",
      "execution_count": 94,
      "metadata": {
        "execution": {
          "iopub.execute_input": "2022-12-22T10:41:38.629051Z",
          "iopub.status.busy": "2022-12-22T10:41:38.628674Z",
          "iopub.status.idle": "2022-12-22T10:41:38.764962Z",
          "shell.execute_reply": "2022-12-22T10:41:38.764287Z",
          "shell.execute_reply.started": "2022-12-22T10:41:38.629013Z"
        },
        "id": "tkFyu9u3tUOi",
        "trusted": true
      },
      "outputs": [],
      "source": [
        "import contractions\n",
        "from bs4 import BeautifulSoup\n",
        "import numpy as np\n",
        "import re\n",
        "import tqdm\n",
        "import unicodedata\n",
        "\n",
        "\n",
        "# def strip_html_tags(text):\n",
        "#   soup = BeautifulSoup(text, \"html.parser\")\n",
        "#   [s.extract() for s in soup(['iframe', 'script'])]\n",
        "#   stripped_text = soup.get_text()\n",
        "#   stripped_text = re.sub(r'[\\r|\\n|\\r\\n]+', '\\n', stripped_text)\n",
        "#   return stripped_text\n",
        "\n",
        "def remove_accented_chars(text):\n",
        "  text = unicodedata.normalize('NFKD', text).encode('ascii', 'ignore').decode('utf-8', 'ignore')\n",
        "  return text\n",
        "\n",
        "def pre_process_corpus(docs):\n",
        "  norm_docs = []\n",
        "  for doc in tqdm.tqdm(docs):\n",
        "    # doc = strip_html_tags(doc)\n",
        "    doc = doc.translate(doc.maketrans(\"\\n\\t\\r\", \"   \"))\n",
        "    doc = doc.lower()\n",
        "    doc = remove_accented_chars(doc)\n",
        "    doc = contractions.fix(doc)\n",
        "    # lower case and remove special characters\\whitespaces\n",
        "    doc = re.sub(r'[^a-zA-Z0-9\\s]', '', doc, re.I|re.A)\n",
        "    doc = re.sub(' +', ' ', doc)\n",
        "    doc = doc.strip()\n",
        "    norm_docs.append(doc)\n",
        "\n",
        "  return norm_docs"
      ]
    },
    {
      "cell_type": "markdown",
      "metadata": {
        "id": "8_JEXODppxTc"
      },
      "source": [
        "# 3. Loading Dataset (Amazon Reviews)"
      ]
    },
    {
      "cell_type": "code",
      "execution_count": 358,
      "metadata": {
        "colab": {
          "base_uri": "https://localhost:8080/"
        },
        "id": "rELsRXgCiP8E",
        "outputId": "bd709575-92d5-47a3-9cdc-f701377fae50"
      },
      "outputs": [
        {
          "name": "stdout",
          "output_type": "stream",
          "text": [
            "Drive already mounted at /content/drive; to attempt to forcibly remount, call drive.mount(\"/content/drive\", force_remount=True).\n"
          ]
        }
      ],
      "source": [
        "from google.colab import drive\n",
        "drive.mount('/content/drive')"
      ]
    },
    {
      "cell_type": "code",
      "execution_count": 359,
      "metadata": {
        "colab": {
          "base_uri": "https://localhost:8080/",
          "height": 206
        },
        "id": "rXwLKunriAVJ",
        "outputId": "2d1d494b-c250-4730-f069-ad611b539829"
      },
      "outputs": [
        {
          "data": {
            "text/html": [
              "\n",
              "  <div id=\"df-98c56c96-e697-4a9e-8b5b-0b0fba13edb4\" class=\"colab-df-container\">\n",
              "    <div>\n",
              "<style scoped>\n",
              "    .dataframe tbody tr th:only-of-type {\n",
              "        vertical-align: middle;\n",
              "    }\n",
              "\n",
              "    .dataframe tbody tr th {\n",
              "        vertical-align: top;\n",
              "    }\n",
              "\n",
              "    .dataframe thead th {\n",
              "        text-align: right;\n",
              "    }\n",
              "</style>\n",
              "<table border=\"1\" class=\"dataframe\">\n",
              "  <thead>\n",
              "    <tr style=\"text-align: right;\">\n",
              "      <th></th>\n",
              "      <th>review_text</th>\n",
              "      <th>class_index</th>\n",
              "    </tr>\n",
              "  </thead>\n",
              "  <tbody>\n",
              "    <tr>\n",
              "      <th>0</th>\n",
              "      <td>So there is no way for me to plug it in here i...</td>\n",
              "      <td>0</td>\n",
              "    </tr>\n",
              "    <tr>\n",
              "      <th>1</th>\n",
              "      <td>Good case, Excellent value.</td>\n",
              "      <td>1</td>\n",
              "    </tr>\n",
              "    <tr>\n",
              "      <th>2</th>\n",
              "      <td>Great for the jawbone.</td>\n",
              "      <td>1</td>\n",
              "    </tr>\n",
              "    <tr>\n",
              "      <th>3</th>\n",
              "      <td>Tied to charger for conversations lasting more...</td>\n",
              "      <td>0</td>\n",
              "    </tr>\n",
              "    <tr>\n",
              "      <th>4</th>\n",
              "      <td>The mic is great.</td>\n",
              "      <td>1</td>\n",
              "    </tr>\n",
              "  </tbody>\n",
              "</table>\n",
              "</div>\n",
              "    <div class=\"colab-df-buttons\">\n",
              "\n",
              "  <div class=\"colab-df-container\">\n",
              "    <button class=\"colab-df-convert\" onclick=\"convertToInteractive('df-98c56c96-e697-4a9e-8b5b-0b0fba13edb4')\"\n",
              "            title=\"Convert this dataframe to an interactive table.\"\n",
              "            style=\"display:none;\">\n",
              "\n",
              "  <svg xmlns=\"http://www.w3.org/2000/svg\" height=\"24px\" viewBox=\"0 -960 960 960\">\n",
              "    <path d=\"M120-120v-720h720v720H120Zm60-500h600v-160H180v160Zm220 220h160v-160H400v160Zm0 220h160v-160H400v160ZM180-400h160v-160H180v160Zm440 0h160v-160H620v160ZM180-180h160v-160H180v160Zm440 0h160v-160H620v160Z\"/>\n",
              "  </svg>\n",
              "    </button>\n",
              "\n",
              "  <style>\n",
              "    .colab-df-container {\n",
              "      display:flex;\n",
              "      gap: 12px;\n",
              "    }\n",
              "\n",
              "    .colab-df-convert {\n",
              "      background-color: #E8F0FE;\n",
              "      border: none;\n",
              "      border-radius: 50%;\n",
              "      cursor: pointer;\n",
              "      display: none;\n",
              "      fill: #1967D2;\n",
              "      height: 32px;\n",
              "      padding: 0 0 0 0;\n",
              "      width: 32px;\n",
              "    }\n",
              "\n",
              "    .colab-df-convert:hover {\n",
              "      background-color: #E2EBFA;\n",
              "      box-shadow: 0px 1px 2px rgba(60, 64, 67, 0.3), 0px 1px 3px 1px rgba(60, 64, 67, 0.15);\n",
              "      fill: #174EA6;\n",
              "    }\n",
              "\n",
              "    .colab-df-buttons div {\n",
              "      margin-bottom: 4px;\n",
              "    }\n",
              "\n",
              "    [theme=dark] .colab-df-convert {\n",
              "      background-color: #3B4455;\n",
              "      fill: #D2E3FC;\n",
              "    }\n",
              "\n",
              "    [theme=dark] .colab-df-convert:hover {\n",
              "      background-color: #434B5C;\n",
              "      box-shadow: 0px 1px 3px 1px rgba(0, 0, 0, 0.15);\n",
              "      filter: drop-shadow(0px 1px 2px rgba(0, 0, 0, 0.3));\n",
              "      fill: #FFFFFF;\n",
              "    }\n",
              "  </style>\n",
              "\n",
              "    <script>\n",
              "      const buttonEl =\n",
              "        document.querySelector('#df-98c56c96-e697-4a9e-8b5b-0b0fba13edb4 button.colab-df-convert');\n",
              "      buttonEl.style.display =\n",
              "        google.colab.kernel.accessAllowed ? 'block' : 'none';\n",
              "\n",
              "      async function convertToInteractive(key) {\n",
              "        const element = document.querySelector('#df-98c56c96-e697-4a9e-8b5b-0b0fba13edb4');\n",
              "        const dataTable =\n",
              "          await google.colab.kernel.invokeFunction('convertToInteractive',\n",
              "                                                    [key], {});\n",
              "        if (!dataTable) return;\n",
              "\n",
              "        const docLinkHtml = 'Like what you see? Visit the ' +\n",
              "          '<a target=\"_blank\" href=https://colab.research.google.com/notebooks/data_table.ipynb>data table notebook</a>'\n",
              "          + ' to learn more about interactive tables.';\n",
              "        element.innerHTML = '';\n",
              "        dataTable['output_type'] = 'display_data';\n",
              "        await google.colab.output.renderOutput(dataTable, element);\n",
              "        const docLink = document.createElement('div');\n",
              "        docLink.innerHTML = docLinkHtml;\n",
              "        element.appendChild(docLink);\n",
              "      }\n",
              "    </script>\n",
              "  </div>\n",
              "\n",
              "\n",
              "<div id=\"df-be06de03-7df3-4063-af43-c5fb2745da6f\">\n",
              "  <button class=\"colab-df-quickchart\" onclick=\"quickchart('df-be06de03-7df3-4063-af43-c5fb2745da6f')\"\n",
              "            title=\"Suggest charts\"\n",
              "            style=\"display:none;\">\n",
              "\n",
              "<svg xmlns=\"http://www.w3.org/2000/svg\" height=\"24px\"viewBox=\"0 0 24 24\"\n",
              "     width=\"24px\">\n",
              "    <g>\n",
              "        <path d=\"M19 3H5c-1.1 0-2 .9-2 2v14c0 1.1.9 2 2 2h14c1.1 0 2-.9 2-2V5c0-1.1-.9-2-2-2zM9 17H7v-7h2v7zm4 0h-2V7h2v10zm4 0h-2v-4h2v4z\"/>\n",
              "    </g>\n",
              "</svg>\n",
              "  </button>\n",
              "\n",
              "<style>\n",
              "  .colab-df-quickchart {\n",
              "      --bg-color: #E8F0FE;\n",
              "      --fill-color: #1967D2;\n",
              "      --hover-bg-color: #E2EBFA;\n",
              "      --hover-fill-color: #174EA6;\n",
              "      --disabled-fill-color: #AAA;\n",
              "      --disabled-bg-color: #DDD;\n",
              "  }\n",
              "\n",
              "  [theme=dark] .colab-df-quickchart {\n",
              "      --bg-color: #3B4455;\n",
              "      --fill-color: #D2E3FC;\n",
              "      --hover-bg-color: #434B5C;\n",
              "      --hover-fill-color: #FFFFFF;\n",
              "      --disabled-bg-color: #3B4455;\n",
              "      --disabled-fill-color: #666;\n",
              "  }\n",
              "\n",
              "  .colab-df-quickchart {\n",
              "    background-color: var(--bg-color);\n",
              "    border: none;\n",
              "    border-radius: 50%;\n",
              "    cursor: pointer;\n",
              "    display: none;\n",
              "    fill: var(--fill-color);\n",
              "    height: 32px;\n",
              "    padding: 0;\n",
              "    width: 32px;\n",
              "  }\n",
              "\n",
              "  .colab-df-quickchart:hover {\n",
              "    background-color: var(--hover-bg-color);\n",
              "    box-shadow: 0 1px 2px rgba(60, 64, 67, 0.3), 0 1px 3px 1px rgba(60, 64, 67, 0.15);\n",
              "    fill: var(--button-hover-fill-color);\n",
              "  }\n",
              "\n",
              "  .colab-df-quickchart-complete:disabled,\n",
              "  .colab-df-quickchart-complete:disabled:hover {\n",
              "    background-color: var(--disabled-bg-color);\n",
              "    fill: var(--disabled-fill-color);\n",
              "    box-shadow: none;\n",
              "  }\n",
              "\n",
              "  .colab-df-spinner {\n",
              "    border: 2px solid var(--fill-color);\n",
              "    border-color: transparent;\n",
              "    border-bottom-color: var(--fill-color);\n",
              "    animation:\n",
              "      spin 1s steps(1) infinite;\n",
              "  }\n",
              "\n",
              "  @keyframes spin {\n",
              "    0% {\n",
              "      border-color: transparent;\n",
              "      border-bottom-color: var(--fill-color);\n",
              "      border-left-color: var(--fill-color);\n",
              "    }\n",
              "    20% {\n",
              "      border-color: transparent;\n",
              "      border-left-color: var(--fill-color);\n",
              "      border-top-color: var(--fill-color);\n",
              "    }\n",
              "    30% {\n",
              "      border-color: transparent;\n",
              "      border-left-color: var(--fill-color);\n",
              "      border-top-color: var(--fill-color);\n",
              "      border-right-color: var(--fill-color);\n",
              "    }\n",
              "    40% {\n",
              "      border-color: transparent;\n",
              "      border-right-color: var(--fill-color);\n",
              "      border-top-color: var(--fill-color);\n",
              "    }\n",
              "    60% {\n",
              "      border-color: transparent;\n",
              "      border-right-color: var(--fill-color);\n",
              "    }\n",
              "    80% {\n",
              "      border-color: transparent;\n",
              "      border-right-color: var(--fill-color);\n",
              "      border-bottom-color: var(--fill-color);\n",
              "    }\n",
              "    90% {\n",
              "      border-color: transparent;\n",
              "      border-bottom-color: var(--fill-color);\n",
              "    }\n",
              "  }\n",
              "</style>\n",
              "\n",
              "  <script>\n",
              "    async function quickchart(key) {\n",
              "      const quickchartButtonEl =\n",
              "        document.querySelector('#' + key + ' button');\n",
              "      quickchartButtonEl.disabled = true;  // To prevent multiple clicks.\n",
              "      quickchartButtonEl.classList.add('colab-df-spinner');\n",
              "      try {\n",
              "        const charts = await google.colab.kernel.invokeFunction(\n",
              "            'suggestCharts', [key], {});\n",
              "      } catch (error) {\n",
              "        console.error('Error during call to suggestCharts:', error);\n",
              "      }\n",
              "      quickchartButtonEl.classList.remove('colab-df-spinner');\n",
              "      quickchartButtonEl.classList.add('colab-df-quickchart-complete');\n",
              "    }\n",
              "    (() => {\n",
              "      let quickchartButtonEl =\n",
              "        document.querySelector('#df-be06de03-7df3-4063-af43-c5fb2745da6f button');\n",
              "      quickchartButtonEl.style.display =\n",
              "        google.colab.kernel.accessAllowed ? 'block' : 'none';\n",
              "    })();\n",
              "  </script>\n",
              "</div>\n",
              "    </div>\n",
              "  </div>\n"
            ],
            "text/plain": [
              "                                         review_text  class_index\n",
              "0  So there is no way for me to plug it in here i...            0\n",
              "1                        Good case, Excellent value.            1\n",
              "2                             Great for the jawbone.            1\n",
              "3  Tied to charger for conversations lasting more...            0\n",
              "4                                  The mic is great.            1"
            ]
          },
          "execution_count": 359,
          "metadata": {},
          "output_type": "execute_result"
        }
      ],
      "source": [
        "# data = pd.read_csv('imdb_labelled.tsv', header = None, delimiter='\\t')\n",
        "#baca data txt seperti diatas\n",
        "data = pd.read_csv('/content/drive/MyDrive/DEEP LEARNING/amazon_cells_labelled.txt', header = None, delimiter='\\t')\n",
        "data.columns = ['review_text', 'class_index']\n",
        "data.head()"
      ]
    },
    {
      "cell_type": "code",
      "execution_count": 360,
      "metadata": {
        "colab": {
          "base_uri": "https://localhost:8080/"
        },
        "id": "GBmjrJIrigdc",
        "outputId": "45266961-ddda-403f-f0a3-7c70f3364192"
      },
      "outputs": [
        {
          "data": {
            "text/plain": [
              "(1000, 2)"
            ]
          },
          "execution_count": 360,
          "metadata": {},
          "output_type": "execute_result"
        }
      ],
      "source": [
        "data.shape"
      ]
    },
    {
      "cell_type": "code",
      "execution_count": 361,
      "metadata": {
        "execution": {
          "iopub.execute_input": "2022-12-22T10:41:38.766198Z",
          "iopub.status.busy": "2022-12-22T10:41:38.765981Z",
          "iopub.status.idle": "2022-12-22T10:42:17.588311Z",
          "shell.execute_reply": "2022-12-22T10:42:17.587539Z",
          "shell.execute_reply.started": "2022-12-22T10:41:38.766168Z"
        },
        "id": "U7pQ5WR1VYqm",
        "trusted": true
      },
      "outputs": [],
      "source": [
        "# dataset_train = pd.read_csv('../input/amazon-reviews-for-sa-binary-negative-positive-csv/amazon_review_sa_binary_csv/train.csv')\n",
        "# dataset_test = pd.read_csv('../input/amazon-reviews-for-sa-binary-negative-positive-csv/amazon_review_sa_binary_csv/test.csv')\n",
        "# dataset_val =  pd.read_csv('../input/amazon-reviews-for-sa-binary-negative-positive-csv/amazon_review_sa_binary_csv/test.csv')\n",
        "\n",
        "dataset_test = data.iloc[850:950, :]  # Mengambil 150 baris pertama untuk data test\n",
        "dataset_train = data.iloc[0:850, :]  # Mengambil 700 baris terakhir untuk data train\n",
        "dataset_val = data.iloc[950:1000, :]  # Mengambil 150 baris pertama untuk data validation\n",
        "\n",
        "\n"
      ]
    },
    {
      "cell_type": "markdown",
      "metadata": {
        "id": "CETaiGM2tO_d"
      },
      "source": [
        "# 4. Shuffeling and splitting the Data"
      ]
    },
    {
      "cell_type": "code",
      "execution_count": 362,
      "metadata": {
        "execution": {
          "iopub.execute_input": "2022-12-22T10:42:17.590132Z",
          "iopub.status.busy": "2022-12-22T10:42:17.589854Z",
          "iopub.status.idle": "2022-12-22T10:42:18.719918Z",
          "shell.execute_reply": "2022-12-22T10:42:18.719174Z",
          "shell.execute_reply.started": "2022-12-22T10:42:17.590096Z"
        },
        "id": "XpwueLn6V-qF",
        "trusted": true
      },
      "outputs": [],
      "source": [
        "# build+shuffle train and test and validation datasets\n",
        "\n",
        "val = dataset_val.sample(frac=1)\n",
        "train = dataset_train.sample(frac=1)\n",
        "test = dataset_test.sample(frac=1)\n",
        "\n",
        "# test = dataset_test.iloc[:50000,:]\n",
        "# train = dataset_train.iloc[50000:,:]\n",
        "# val = dataset_train.iloc[:50000,:]\n",
        "# train = dataset_train.iloc[50000:,:]\n",
        "# train = dataset_train.iloc[:100000,:]\n",
        "\n",
        "X_train = train['review_text'].values\n",
        "y_train = train['class_index'].values\n",
        "\n",
        "X_val = val['review_text'].values\n",
        "y_val = val['class_index'].values\n",
        "\n",
        "X_test = test['review_text'].values\n",
        "y_test = test['class_index'].values"
      ]
    },
    {
      "cell_type": "markdown",
      "metadata": {
        "id": "O87xy-GvgjxE"
      },
      "source": [
        "# 5. Preprocessing and Tokenization"
      ]
    },
    {
      "cell_type": "code",
      "execution_count": 363,
      "metadata": {
        "colab": {
          "base_uri": "https://localhost:8080/"
        },
        "execution": {
          "iopub.execute_input": "2022-12-22T10:42:18.721399Z",
          "iopub.status.busy": "2022-12-22T10:42:18.721050Z",
          "iopub.status.idle": "2022-12-22T10:42:55.986765Z",
          "shell.execute_reply": "2022-12-22T10:42:55.986036Z",
          "shell.execute_reply.started": "2022-12-22T10:42:18.721356Z"
        },
        "id": "EgAqgSnHtap5",
        "outputId": "facc471b-236a-48a3-9b6c-75b772559a05",
        "trusted": true
      },
      "outputs": [
        {
          "name": "stderr",
          "output_type": "stream",
          "text": [
            "100%|██████████| 850/850 [00:00<00:00, 43350.66it/s]\n",
            "100%|██████████| 50/50 [00:00<00:00, 41610.16it/s]\n",
            "100%|██████████| 100/100 [00:00<00:00, 19626.15it/s]"
          ]
        },
        {
          "name": "stdout",
          "output_type": "stream",
          "text": [
            "CPU times: user 42 ms, sys: 3.89 ms, total: 45.9 ms\n",
            "Wall time: 47.1 ms\n"
          ]
        },
        {
          "name": "stderr",
          "output_type": "stream",
          "text": [
            "\n"
          ]
        }
      ],
      "source": [
        "%%time\n",
        "\n",
        "X_train = pre_process_corpus(X_train)\n",
        "X_val = pre_process_corpus(X_val)\n",
        "X_test = pre_process_corpus(X_test)"
      ]
    },
    {
      "cell_type": "code",
      "execution_count": 364,
      "metadata": {
        "execution": {
          "iopub.execute_input": "2022-12-22T10:42:55.990391Z",
          "iopub.status.busy": "2022-12-22T10:42:55.989900Z",
          "iopub.status.idle": "2022-12-22T10:43:01.526439Z",
          "shell.execute_reply": "2022-12-22T10:43:01.525680Z",
          "shell.execute_reply.started": "2022-12-22T10:42:55.990352Z"
        },
        "id": "F-SOL_amgjxE",
        "trusted": true
      },
      "outputs": [],
      "source": [
        "t = Tokenizer(oov_token='<UNK>')\n",
        "# fit the tokenizer on train documents\n",
        "t.fit_on_texts(X_train)\n",
        "t.word_index['<PAD>'] = 0"
      ]
    },
    {
      "cell_type": "code",
      "execution_count": 365,
      "metadata": {
        "execution": {
          "iopub.execute_input": "2022-12-22T10:43:01.528241Z",
          "iopub.status.busy": "2022-12-22T10:43:01.527579Z",
          "iopub.status.idle": "2022-12-22T10:43:09.430120Z",
          "shell.execute_reply": "2022-12-22T10:43:09.429380Z",
          "shell.execute_reply.started": "2022-12-22T10:43:01.528201Z"
        },
        "id": "ZUpBfm_EgjxF",
        "trusted": true
      },
      "outputs": [],
      "source": [
        "X_train = t.texts_to_sequences(X_train)\n",
        "X_test = t.texts_to_sequences(X_test)\n",
        "X_val = t.texts_to_sequences(X_val)"
      ]
    },
    {
      "cell_type": "code",
      "execution_count": 366,
      "metadata": {
        "colab": {
          "base_uri": "https://localhost:8080/"
        },
        "execution": {
          "iopub.execute_input": "2022-12-22T10:43:09.431807Z",
          "iopub.status.busy": "2022-12-22T10:43:09.431530Z",
          "iopub.status.idle": "2022-12-22T10:43:09.437169Z",
          "shell.execute_reply": "2022-12-22T10:43:09.436307Z",
          "shell.execute_reply.started": "2022-12-22T10:43:09.431769Z"
        },
        "id": "ldkDHyjZgaFV",
        "outputId": "0729bd62-3925-42e6-8969-b382b8dff3bb",
        "trusted": true
      },
      "outputs": [
        {
          "name": "stdout",
          "output_type": "stream",
          "text": [
            "Vocabulary size=1722\n",
            "Number of Documents=850\n"
          ]
        }
      ],
      "source": [
        "print(\"Vocabulary size={}\".format(len(t.word_index)))\n",
        "print(\"Number of Documents={}\".format(t.document_count))"
      ]
    },
    {
      "cell_type": "markdown",
      "metadata": {
        "id": "yRz5SUodgjxF"
      },
      "source": [
        "# 6. Dataset Visualization"
      ]
    },
    {
      "cell_type": "code",
      "execution_count": 367,
      "metadata": {
        "colab": {
          "base_uri": "https://localhost:8080/",
          "height": 522
        },
        "execution": {
          "iopub.execute_input": "2022-12-22T10:43:09.438954Z",
          "iopub.status.busy": "2022-12-22T10:43:09.438649Z",
          "iopub.status.idle": "2022-12-22T10:43:10.214080Z",
          "shell.execute_reply": "2022-12-22T10:43:10.213371Z",
          "shell.execute_reply.started": "2022-12-22T10:43:09.438881Z"
        },
        "id": "CQjiXA7Ntw13",
        "outputId": "58e89ce0-9d08-433b-dc1a-ae48a90745a0",
        "trusted": true
      },
      "outputs": [
        {
          "data": {
            "image/png": "[encoded data removed]",
            "text/plain": [
              "<Figure size 1200x600 with 2 Axes>"
            ]
          },
          "metadata": {},
          "output_type": "display_data"
        }
      ],
      "source": [
        "import matplotlib.pyplot as plt\n",
        "%matplotlib inline\n",
        "\n",
        "train_lens = [len(s) for s in X_train]\n",
        "test_lens = [len(s) for s in X_test]\n",
        "\n",
        "fig, ax = plt.subplots(1,2, figsize=(12, 6))\n",
        "h1 = ax[0].hist(train_lens)\n",
        "h2 = ax[1].hist(test_lens)"
      ]
    },
    {
      "cell_type": "markdown",
      "metadata": {
        "id": "xfZwP6C8pxT8"
      },
      "source": [
        "# 7. Sequence Normalization and Encoding Labels"
      ]
    },
    {
      "cell_type": "code",
      "execution_count": 381,
      "metadata": {
        "execution": {
          "iopub.execute_input": "2022-12-22T10:43:10.215677Z",
          "iopub.status.busy": "2022-12-22T10:43:10.215416Z",
          "iopub.status.idle": "2022-12-22T10:43:10.219382Z",
          "shell.execute_reply": "2022-12-22T10:43:10.218654Z",
          "shell.execute_reply.started": "2022-12-22T10:43:10.215643Z"
        },
        "id": "BtuGJ0wXjQnC",
        "trusted": true
      },
      "outputs": [],
      "source": [
        "MAX_SEQUENCE_LENGTH = 100"
      ]
    },
    {
      "cell_type": "code",
      "execution_count": 382,
      "metadata": {
        "execution": {
          "iopub.execute_input": "2022-12-22T10:43:10.221267Z",
          "iopub.status.busy": "2022-12-22T10:43:10.220793Z",
          "iopub.status.idle": "2022-12-22T10:43:11.406910Z",
          "shell.execute_reply": "2022-12-22T10:43:11.406134Z",
          "shell.execute_reply.started": "2022-12-22T10:43:10.221231Z"
        },
        "id": "wAnv99kzWA5k",
        "trusted": true
      },
      "outputs": [],
      "source": [
        "# pad dataset to a maximum review length in words\n",
        "X_train = sequence.pad_sequences(X_train, maxlen=MAX_SEQUENCE_LENGTH)\n",
        "X_test = sequence.pad_sequences(X_test, maxlen=MAX_SEQUENCE_LENGTH)\n",
        "X_val = sequence.pad_sequences(X_val, maxlen=MAX_SEQUENCE_LENGTH)"
      ]
    },
    {
      "cell_type": "code",
      "execution_count": 383,
      "metadata": {
        "execution": {
          "iopub.execute_input": "2022-12-22T10:43:11.408968Z",
          "iopub.status.busy": "2022-12-22T10:43:11.408681Z",
          "iopub.status.idle": "2022-12-22T10:43:11.413222Z",
          "shell.execute_reply": "2022-12-22T10:43:11.412468Z",
          "shell.execute_reply.started": "2022-12-22T10:43:11.408929Z"
        },
        "id": "rRMaWb1ldqyl",
        "trusted": true
      },
      "outputs": [],
      "source": [
        "le = LabelEncoder()\n",
        "num_classes=2 # positive -> 1, negative -> 0"
      ]
    },
    {
      "cell_type": "code",
      "execution_count": 384,
      "metadata": {
        "execution": {
          "iopub.execute_input": "2022-12-22T10:43:11.415078Z",
          "iopub.status.busy": "2022-12-22T10:43:11.414301Z",
          "iopub.status.idle": "2022-12-22T10:43:11.429187Z",
          "shell.execute_reply": "2022-12-22T10:43:11.428407Z",
          "shell.execute_reply.started": "2022-12-22T10:43:11.415040Z"
        },
        "id": "tJjbtyDjfsd1",
        "trusted": true
      },
      "outputs": [],
      "source": [
        "y_train = le.fit_transform(y_train)\n",
        "y_test = le.transform(y_test)\n",
        "y_val = le.transform(y_val)"
      ]
    },
    {
      "cell_type": "code",
      "execution_count": 385,
      "metadata": {
        "colab": {
          "base_uri": "https://localhost:8080/"
        },
        "id": "uvqefWkIt2uA",
        "outputId": "46ac2d4b-87dc-4f65-d070-8ceccfa8a2d6"
      },
      "outputs": [
        {
          "data": {
            "text/plain": [
              "array([1, 0, 0, 1, 1, 1, 1, 1, 0, 0, 0, 1, 1, 0, 0, 1, 0, 1, 1, 0, 1, 0,\n",
              "       1, 0, 0, 1, 0, 1, 0, 1, 0, 1, 0, 0, 0, 1, 1, 1, 0, 0, 0, 0, 1, 0,\n",
              "       1, 0, 0, 0, 0, 0, 1, 1, 0, 1, 0, 0, 1, 1, 0, 1, 0, 0, 1, 1, 0, 0,\n",
              "       1, 1, 0, 0, 0, 0, 0, 1, 1, 0, 0, 0, 0, 0, 0, 0, 0, 0, 1, 0, 0, 1,\n",
              "       1, 0, 0, 1, 1, 1, 0, 0, 1, 1, 0, 1, 0, 0, 1, 0, 0, 1, 1, 1, 0, 0,\n",
              "       1, 1, 0, 1, 1, 1, 1, 1, 0, 1, 1, 0, 1, 1, 1, 0, 1, 0, 1, 1, 0, 0,\n",
              "       0, 0, 1, 0, 1, 0, 1, 0, 0, 0, 0, 0, 0, 1, 1, 1, 0, 1, 1, 0, 0, 1,\n",
              "       0, 0, 0, 0, 0, 0, 1, 1, 0, 1, 1, 1, 1, 1, 1, 1, 0, 0, 1, 1, 0, 1,\n",
              "       0, 0, 1, 0, 1, 1, 0, 1, 0, 0, 0, 1, 0, 0, 0, 0, 0, 1, 1, 0, 0, 0,\n",
              "       0, 0, 1, 0, 0, 0, 1, 1, 0, 0, 1, 1, 1, 1, 0, 1, 0, 0, 0, 0, 1, 0,\n",
              "       1, 1, 1, 0, 1, 1, 0, 0, 1, 1, 1, 1, 1, 0, 0, 0, 0, 1, 0, 0, 1, 1,\n",
              "       1, 0, 1, 0, 1, 0, 0, 1, 0, 0, 0, 0, 0, 1, 1, 0, 0, 1, 0, 0, 1, 1,\n",
              "       1, 1, 1, 1, 0, 1, 0, 0, 1, 0, 1, 0, 0, 1, 0, 0, 1, 1, 1, 1, 0, 1,\n",
              "       0, 1, 1, 1, 1, 0, 1, 1, 0, 1, 1, 1, 0, 1, 0, 1, 1, 1, 0, 0, 0, 1,\n",
              "       0, 1, 0, 1, 0, 1, 1, 0, 0, 1, 1, 0, 1, 0, 0, 1, 0, 1, 0, 1, 1, 1,\n",
              "       0, 0, 0, 1, 1, 1, 1, 0, 1, 1, 0, 1, 0, 0, 1, 0, 0, 1, 1, 1, 1, 0,\n",
              "       1, 1, 0, 0, 0, 0, 0, 0, 0, 0, 1, 0, 1, 0, 1, 0, 0, 1, 1, 1, 0, 1,\n",
              "       0, 1, 0, 1, 1, 1, 0, 1, 0, 0, 0, 0, 1, 1, 1, 1, 1, 1, 0, 0, 1, 0,\n",
              "       0, 0, 0, 1, 0, 1, 1, 1, 1, 0, 1, 0, 1, 0, 1, 1, 1, 1, 1, 0, 1, 0,\n",
              "       1, 1, 0, 0, 1, 1, 0, 1, 1, 0, 0, 0, 1, 1, 0, 0, 0, 1, 1, 1, 1, 1,\n",
              "       1, 0, 0, 1, 0, 0, 0, 0, 1, 0, 0, 0, 0, 0, 0, 1, 0, 1, 0, 1, 1, 0,\n",
              "       1, 1, 1, 1, 1, 0, 1, 1, 1, 1, 0, 0, 1, 0, 0, 0, 0, 0, 1, 1, 1, 1,\n",
              "       0, 0, 0, 0, 1, 1, 1, 0, 0, 1, 0, 0, 0, 0, 1, 1, 1, 0, 0, 0, 0, 0,\n",
              "       0, 0, 1, 0, 0, 0, 0, 0, 0, 0, 0, 0, 0, 0, 0, 0, 0, 0, 0, 0, 1, 1,\n",
              "       1, 0, 1, 0, 0, 0, 1, 0, 0, 1, 0, 1, 0, 1, 1, 0, 1, 0, 0, 0, 1, 1,\n",
              "       0, 0, 1, 0, 1, 0, 0, 1, 1, 0, 0, 0, 1, 1, 0, 0, 1, 0, 0, 1, 0, 1,\n",
              "       0, 1, 1, 0, 0, 1, 1, 0, 1, 1, 1, 1, 0, 1, 1, 1, 0, 0, 0, 1, 1, 0,\n",
              "       0, 1, 1, 1, 0, 0, 1, 1, 1, 0, 1, 0, 0, 0, 1, 1, 0, 1, 1, 0, 0, 1,\n",
              "       0, 1, 0, 1, 1, 1, 1, 0, 1, 0, 1, 1, 0, 0, 1, 0, 1, 0, 1, 1, 1, 0,\n",
              "       0, 1, 0, 0, 1, 1, 0, 1, 0, 0, 0, 1, 0, 1, 0, 1, 0, 1, 1, 0, 0, 1,\n",
              "       0, 1, 0, 1, 1, 0, 0, 0, 0, 0, 0, 1, 0, 0, 1, 0, 0, 1, 1, 1, 0, 1,\n",
              "       1, 0, 0, 0, 0, 0, 0, 1, 0, 1, 0, 0, 1, 1, 1, 1, 1, 0, 0, 1, 1, 0,\n",
              "       1, 1, 1, 1, 1, 1, 0, 1, 0, 0, 0, 1, 1, 0, 0, 0, 0, 0, 1, 0, 1, 1,\n",
              "       1, 1, 1, 1, 0, 1, 1, 1, 1, 0, 0, 1, 0, 1, 0, 1, 1, 1, 0, 0, 1, 1,\n",
              "       1, 1, 1, 1, 0, 1, 1, 1, 1, 1, 1, 0, 0, 0, 1, 1, 0, 0, 0, 1, 0, 0,\n",
              "       1, 0, 1, 1, 1, 1, 0, 1, 0, 1, 1, 0, 1, 0, 1, 0, 1, 1, 1, 1, 1, 1,\n",
              "       0, 1, 1, 1, 1, 0, 1, 0, 1, 1, 0, 1, 1, 1, 0, 0, 0, 1, 1, 0, 0, 0,\n",
              "       1, 1, 1, 1, 0, 1, 0, 1, 1, 1, 1, 1, 0, 1, 0, 0, 1, 1, 1, 1, 1, 1,\n",
              "       1, 0, 1, 1, 0, 1, 1, 0, 0, 1, 0, 0, 1, 1])"
            ]
          },
          "execution_count": 385,
          "metadata": {},
          "output_type": "execute_result"
        }
      ],
      "source": [
        "y_train"
      ]
    },
    {
      "cell_type": "code",
      "execution_count": 386,
      "metadata": {
        "execution": {
          "iopub.execute_input": "2022-12-22T10:43:11.430743Z",
          "iopub.status.busy": "2022-12-22T10:43:11.430370Z",
          "iopub.status.idle": "2022-12-22T10:43:11.434994Z",
          "shell.execute_reply": "2022-12-22T10:43:11.434328Z",
          "shell.execute_reply.started": "2022-12-22T10:43:11.430710Z"
        },
        "id": "iaqFz7ZpdoLC",
        "trusted": true
      },
      "outputs": [],
      "source": [
        "VOCAB_SIZE = len(t.word_index)"
      ]
    },
    {
      "cell_type": "markdown",
      "metadata": {
        "id": "EoBYgGuDgjxH"
      },
      "source": [
        "# 8. Model Preparation and Training"
      ]
    },
    {
      "cell_type": "code",
      "execution_count": 417,
      "metadata": {
        "execution": {
          "iopub.execute_input": "2022-12-22T10:43:11.436793Z",
          "iopub.status.busy": "2022-12-22T10:43:11.436085Z",
          "iopub.status.idle": "2022-12-22T10:43:11.444440Z",
          "shell.execute_reply": "2022-12-22T10:43:11.443686Z",
          "shell.execute_reply.started": "2022-12-22T10:43:11.436759Z"
        },
        "id": "LR3mdd8kjgW1",
        "trusted": true
      },
      "outputs": [],
      "source": [
        "EMBED_SIZE = 300\n",
        "# optimizer = tf.keras.optimizers.Adam(learning_rate=0.01)"
      ]
    },
    {
      "cell_type": "code",
      "execution_count": 418,
      "metadata": {
        "execution": {
          "iopub.execute_input": "2022-12-22T10:43:11.445939Z",
          "iopub.status.busy": "2022-12-22T10:43:11.445610Z",
          "iopub.status.idle": "2022-12-22T10:43:11.461588Z",
          "shell.execute_reply": "2022-12-22T10:43:11.460900Z",
          "shell.execute_reply.started": "2022-12-22T10:43:11.445903Z"
        },
        "id": "1K8tY4BTgjxH",
        "trusted": true
      },
      "outputs": [],
      "source": [
        "Adam = tf.keras.optimizers.Adam(learning_rate=0.001)\n",
        "loss = tf.keras.losses.BinaryCrossentropy(label_smoothing=0.1)"
      ]
    },
    {
      "cell_type": "code",
      "execution_count": 419,
      "metadata": {
        "execution": {
          "iopub.execute_input": "2022-12-22T10:43:11.464272Z",
          "iopub.status.busy": "2022-12-22T10:43:11.464008Z",
          "iopub.status.idle": "2022-12-22T10:43:11.468801Z",
          "shell.execute_reply": "2022-12-22T10:43:11.467173Z",
          "shell.execute_reply.started": "2022-12-22T10:43:11.464228Z"
        },
        "id": "FZuZlkVKgjxH",
        "trusted": true
      },
      "outputs": [],
      "source": [
        "callback = tf.keras.callbacks.EarlyStopping(monitor='accuracy', patience=10)"
      ]
    },
    {
      "cell_type": "code",
      "execution_count": 420,
      "metadata": {
        "execution": {
          "iopub.execute_input": "2022-12-22T10:43:11.470545Z",
          "iopub.status.busy": "2022-12-22T10:43:11.470074Z",
          "iopub.status.idle": "2022-12-22T10:43:14.481942Z",
          "shell.execute_reply": "2022-12-22T10:43:14.481301Z",
          "shell.execute_reply.started": "2022-12-22T10:43:11.470495Z"
        },
        "id": "AXhAERVeXhmZ",
        "trusted": true
      },
      "outputs": [],
      "source": [
        "# create the model\n",
        "model = Sequential()\n",
        "model.add(Embedding(VOCAB_SIZE, EMBED_SIZE, input_length=MAX_SEQUENCE_LENGTH))\n",
        "model.add(Conv1D(filters=32, kernel_size=4, padding='same', activation='relu'))\n",
        "model.add(MaxPooling1D(pool_size=2))\n",
        "model.add(Dropout(rate=0.10))\n",
        "model.add(Conv1D(filters=64, kernel_size=4, padding='same', activation='relu'))\n",
        "model.add(MaxPooling1D(pool_size=2))\n",
        "model.add(Dropout(rate=0.10))\n",
        "model.add(Conv1D(filters=64, kernel_size=4, padding='same', activation='relu'))\n",
        "model.add(MaxPooling1D(pool_size=2))\n",
        "model.add(Dropout(rate=0.10))\n",
        "model.add(Flatten())\n",
        "model.add(Dense(256, activation='relu'))\n",
        "model.add(Dense(1, activation='sigmoid'))\n"
      ]
    },
    {
      "cell_type": "code",
      "execution_count": 421,
      "metadata": {
        "id": "EPdQcNPMs5tZ"
      },
      "outputs": [],
      "source": [
        "model.compile(loss=loss, optimizer=Adam, metrics=['accuracy'])\n"
      ]
    },
    {
      "cell_type": "code",
      "execution_count": 422,
      "metadata": {
        "colab": {
          "base_uri": "https://localhost:8080/"
        },
        "id": "4LrNPG1qs81I",
        "outputId": "26a1f1e9-339e-413c-e026-05800597f2c0"
      },
      "outputs": [
        {
          "name": "stdout",
          "output_type": "stream",
          "text": [
            "Model: \"sequential_25\"\n",
            "_________________________________________________________________\n",
            " Layer (type)                Output Shape              Param #   \n",
            "=================================================================\n",
            " embedding_25 (Embedding)    (None, 100, 300)          516600    \n",
            "                                                                 \n",
            " conv1d_75 (Conv1D)          (None, 100, 32)           38432     \n",
            "                                                                 \n",
            " max_pooling1d_75 (MaxPooli  (None, 50, 32)            0         \n",
            " ng1D)                                                           \n",
            "                                                                 \n",
            " dropout_75 (Dropout)        (None, 50, 32)            0         \n",
            "                                                                 \n",
            " conv1d_76 (Conv1D)          (None, 50, 64)            8256      \n",
            "                                                                 \n",
            " max_pooling1d_76 (MaxPooli  (None, 25, 64)            0         \n",
            " ng1D)                                                           \n",
            "                                                                 \n",
            " dropout_76 (Dropout)        (None, 25, 64)            0         \n",
            "                                                                 \n",
            " conv1d_77 (Conv1D)          (None, 25, 64)            16448     \n",
            "                                                                 \n",
            " max_pooling1d_77 (MaxPooli  (None, 12, 64)            0         \n",
            " ng1D)                                                           \n",
            "                                                                 \n",
            " dropout_77 (Dropout)        (None, 12, 64)            0         \n",
            "                                                                 \n",
            " flatten_25 (Flatten)        (None, 768)               0         \n",
            "                                                                 \n",
            " dense_50 (Dense)            (None, 256)               196864    \n",
            "                                                                 \n",
            " dense_51 (Dense)            (None, 1)                 257       \n",
            "                                                                 \n",
            "=================================================================\n",
            "Total params: 776857 (2.96 MB)\n",
            "Trainable params: 776857 (2.96 MB)\n",
            "Non-trainable params: 0 (0.00 Byte)\n",
            "_________________________________________________________________\n"
          ]
        }
      ],
      "source": [
        "model.summary()"
      ]
    },
    {
      "cell_type": "code",
      "execution_count": 423,
      "metadata": {
        "colab": {
          "base_uri": "https://localhost:8080/"
        },
        "execution": {
          "iopub.execute_input": "2022-12-22T10:43:14.486441Z",
          "iopub.status.busy": "2022-12-22T10:43:14.485855Z",
          "iopub.status.idle": "2022-12-22T10:52:44.459282Z",
          "shell.execute_reply": "2022-12-22T10:52:44.458559Z",
          "shell.execute_reply.started": "2022-12-22T10:43:14.486405Z"
        },
        "id": "0uc0jXszf5ob",
        "outputId": "45a9e238-6d36-4d69-e5aa-e516014d2596",
        "trusted": true
      },
      "outputs": [
        {
          "name": "stdout",
          "output_type": "stream",
          "text": [
            "Epoch 1/10\n",
            "36/36 [==============================] - 3s 42ms/step - loss: 0.6929 - accuracy: 0.4988 - val_loss: 0.6791 - val_accuracy: 0.6600\n",
            "Epoch 2/10\n",
            "36/36 [==============================] - 1s 37ms/step - loss: 0.5574 - accuracy: 0.7906 - val_loss: 0.4604 - val_accuracy: 0.8600\n",
            "Epoch 3/10\n",
            "36/36 [==============================] - 2s 47ms/step - loss: 0.2931 - accuracy: 0.9565 - val_loss: 0.4718 - val_accuracy: 0.8000\n",
            "Epoch 4/10\n",
            "36/36 [==============================] - 2s 54ms/step - loss: 0.2214 - accuracy: 0.9953 - val_loss: 0.4879 - val_accuracy: 0.8200\n",
            "Epoch 5/10\n",
            "36/36 [==============================] - 2s 59ms/step - loss: 0.2081 - accuracy: 0.9988 - val_loss: 0.4603 - val_accuracy: 0.8200\n",
            "Epoch 6/10\n",
            "36/36 [==============================] - 2s 52ms/step - loss: 0.2036 - accuracy: 1.0000 - val_loss: 0.4692 - val_accuracy: 0.8200\n",
            "Epoch 7/10\n",
            "36/36 [==============================] - 1s 35ms/step - loss: 0.2021 - accuracy: 1.0000 - val_loss: 0.4779 - val_accuracy: 0.8200\n",
            "Epoch 8/10\n",
            "36/36 [==============================] - 1s 34ms/step - loss: 0.2011 - accuracy: 1.0000 - val_loss: 0.4784 - val_accuracy: 0.8400\n",
            "Epoch 9/10\n",
            "36/36 [==============================] - 1s 34ms/step - loss: 0.2012 - accuracy: 1.0000 - val_loss: 0.4830 - val_accuracy: 0.8200\n",
            "Epoch 10/10\n",
            "36/36 [==============================] - 1s 36ms/step - loss: 0.2003 - accuracy: 1.0000 - val_loss: 0.4798 - val_accuracy: 0.8200\n"
          ]
        }
      ],
      "source": [
        "# Fit the model\n",
        "with tf.device('/GPU:0'):\n",
        "    history1 = model.fit(X_train, y_train, validation_data=(X_val,y_val),epochs=10, batch_size=24, verbose=1, callbacks=[callback])"
      ]
    },
    {
      "cell_type": "markdown",
      "metadata": {
        "id": "_tfbGAbPgjxI"
      },
      "source": [
        "# 9. Visualizing and Evaluating the Results"
      ]
    },
    {
      "cell_type": "code",
      "execution_count": 424,
      "metadata": {
        "colab": {
          "base_uri": "https://localhost:8080/",
          "height": 470
        },
        "execution": {
          "iopub.execute_input": "2022-12-22T10:52:44.461182Z",
          "iopub.status.busy": "2022-12-22T10:52:44.460927Z",
          "iopub.status.idle": "2022-12-22T10:52:44.990895Z",
          "shell.execute_reply": "2022-12-22T10:52:44.990194Z",
          "shell.execute_reply.started": "2022-12-22T10:52:44.461148Z"
        },
        "id": "_usSE5DlgjxJ",
        "outputId": "44a9ed77-cce3-4822-b297-8262975ec96a",
        "trusted": true
      },
      "outputs": [
        {
          "data": {
            "image/png": "[encoded data removed]",
            "text/plain": [
              "<Figure size 2000x500 with 2 Axes>"
            ]
          },
          "metadata": {},
          "output_type": "display_data"
        }
      ],
      "source": [
        "plot_performance(history=history1)"
      ]
    },
    {
      "cell_type": "code",
      "execution_count": 425,
      "metadata": {
        "colab": {
          "base_uri": "https://localhost:8080/"
        },
        "execution": {
          "iopub.execute_input": "2022-12-22T10:52:44.992872Z",
          "iopub.status.busy": "2022-12-22T10:52:44.992034Z",
          "iopub.status.idle": "2022-12-22T10:52:50.178612Z",
          "shell.execute_reply": "2022-12-22T10:52:50.177804Z",
          "shell.execute_reply.started": "2022-12-22T10:52:44.992833Z"
        },
        "id": "3Zik9CWQgNlK",
        "outputId": "028cf0b6-5e9e-4183-99ee-53f608d9b692",
        "trusted": true
      },
      "outputs": [
        {
          "name": "stdout",
          "output_type": "stream",
          "text": [
            "4/4 [==============================] - 0s 11ms/step - loss: 0.4784 - accuracy: 0.8500\n",
            "Accuracy: 85.00%\n"
          ]
        }
      ],
      "source": [
        "# Final evaluation of the model\n",
        "scores = model.evaluate(X_test, y_test, verbose=1)\n",
        "print(\"Accuracy: %.2f%%\" % (scores[1]*100))"
      ]
    },
    {
      "cell_type": "code",
      "execution_count": 428,
      "metadata": {
        "colab": {
          "base_uri": "https://localhost:8080/"
        },
        "id": "__XDIXYlwcKF",
        "outputId": "c9e107c2-44c4-4700-db36-82155685f092"
      },
      "outputs": [
        {
          "name": "stdout",
          "output_type": "stream",
          "text": [
            "2/2 [==============================] - 0s 15ms/step\n"
          ]
        },
        {
          "data": {
            "text/plain": [
              "array([[0.04123953],\n",
              "       [0.1305739 ],\n",
              "       [0.02229722],\n",
              "       [0.8417476 ],\n",
              "       [0.12026705],\n",
              "       [0.03365974],\n",
              "       [0.09282514],\n",
              "       [0.03271217],\n",
              "       [0.6367331 ],\n",
              "       [0.08722831],\n",
              "       [0.05451969],\n",
              "       [0.03404892],\n",
              "       [0.74491423],\n",
              "       [0.91333014],\n",
              "       [0.2727224 ],\n",
              "       [0.89275616],\n",
              "       [0.9160797 ],\n",
              "       [0.0332369 ],\n",
              "       [0.51436585],\n",
              "       [0.04307343],\n",
              "       [0.18068498],\n",
              "       [0.04157137],\n",
              "       [0.9256219 ],\n",
              "       [0.7905161 ],\n",
              "       [0.05944388],\n",
              "       [0.11889455],\n",
              "       [0.65071344],\n",
              "       [0.9083837 ],\n",
              "       [0.20073183],\n",
              "       [0.06371364],\n",
              "       [0.2549755 ],\n",
              "       [0.8729693 ],\n",
              "       [0.04881903],\n",
              "       [0.93415403],\n",
              "       [0.17608503],\n",
              "       [0.8562306 ],\n",
              "       [0.10573513],\n",
              "       [0.69883156],\n",
              "       [0.45529935],\n",
              "       [0.8248844 ],\n",
              "       [0.33674756],\n",
              "       [0.7355373 ],\n",
              "       [0.9136427 ],\n",
              "       [0.33751222],\n",
              "       [0.06726298],\n",
              "       [0.05043162],\n",
              "       [0.15993342],\n",
              "       [0.8078085 ],\n",
              "       [0.5031879 ],\n",
              "       [0.11854016]], dtype=float32)"
            ]
          },
          "execution_count": 428,
          "metadata": {},
          "output_type": "execute_result"
        }
      ],
      "source": [
        "pred=model.predict(X_val)\n",
        "pred"
      ]
    },
    {
      "cell_type": "code",
      "execution_count": 429,
      "metadata": {
        "id": "S6dE4t4oxAb8"
      },
      "outputs": [],
      "source": [
        "pred_converted = [1 if x >= 0.5 else 0 for x in pred]\n",
        "\n",
        "# Membuat DataFrame baru dengan kolom review_text dan pred\n",
        "new_df = pd.DataFrame({\n",
        "    'review_text': val['review_text'],\n",
        "    'pred': pred_converted\n",
        "})"
      ]
    },
    {
      "cell_type": "code",
      "execution_count": 430,
      "metadata": {
        "colab": {
          "base_uri": "https://localhost:8080/",
          "height": 1000
        },
        "id": "Jf9Cakb0xCzE",
        "outputId": "d6d84a9d-36dc-4c65-b602-6db9a55288b8"
      },
      "outputs": [
        {
          "data": {
            "text/html": [
              "\n",
              "  <div id=\"df-93cb0009-db7c-4cb9-85d7-4cbf11814d79\" class=\"colab-df-container\">\n",
              "    <div>\n",
              "<style scoped>\n",
              "    .dataframe tbody tr th:only-of-type {\n",
              "        vertical-align: middle;\n",
              "    }\n",
              "\n",
              "    .dataframe tbody tr th {\n",
              "        vertical-align: top;\n",
              "    }\n",
              "\n",
              "    .dataframe thead th {\n",
              "        text-align: right;\n",
              "    }\n",
              "</style>\n",
              "<table border=\"1\" class=\"dataframe\">\n",
              "  <thead>\n",
              "    <tr style=\"text-align: right;\">\n",
              "      <th></th>\n",
              "      <th>review_text</th>\n",
              "      <th>pred</th>\n",
              "    </tr>\n",
              "  </thead>\n",
              "  <tbody>\n",
              "    <tr>\n",
              "      <th>979</th>\n",
              "      <td>Not enough volume.</td>\n",
              "      <td>0</td>\n",
              "    </tr>\n",
              "    <tr>\n",
              "      <th>959</th>\n",
              "      <td>However, the keypads are so tinny that I somet...</td>\n",
              "      <td>0</td>\n",
              "    </tr>\n",
              "    <tr>\n",
              "      <th>988</th>\n",
              "      <td>It didn't work, people can not hear me when I ...</td>\n",
              "      <td>0</td>\n",
              "    </tr>\n",
              "    <tr>\n",
              "      <th>985</th>\n",
              "      <td>There was so much hype over this phone that I ...</td>\n",
              "      <td>1</td>\n",
              "    </tr>\n",
              "    <tr>\n",
              "      <th>994</th>\n",
              "      <td>Kind of flops around.</td>\n",
              "      <td>0</td>\n",
              "    </tr>\n",
              "    <tr>\n",
              "      <th>999</th>\n",
              "      <td>You can not answer calls with the unit, never ...</td>\n",
              "      <td>0</td>\n",
              "    </tr>\n",
              "    <tr>\n",
              "      <th>965</th>\n",
              "      <td>I cannot make calls at certain places.</td>\n",
              "      <td>0</td>\n",
              "    </tr>\n",
              "    <tr>\n",
              "      <th>970</th>\n",
              "      <td>I plugged it in only to find out not a darn th...</td>\n",
              "      <td>0</td>\n",
              "    </tr>\n",
              "    <tr>\n",
              "      <th>952</th>\n",
              "      <td>Very satisifed with that.</td>\n",
              "      <td>1</td>\n",
              "    </tr>\n",
              "    <tr>\n",
              "      <th>953</th>\n",
              "      <td>It didn't charge for me.</td>\n",
              "      <td>0</td>\n",
              "    </tr>\n",
              "    <tr>\n",
              "      <th>951</th>\n",
              "      <td>Very much disappointed with this company.</td>\n",
              "      <td>0</td>\n",
              "    </tr>\n",
              "    <tr>\n",
              "      <th>968</th>\n",
              "      <td>This company charge me a restocking fee and st...</td>\n",
              "      <td>0</td>\n",
              "    </tr>\n",
              "    <tr>\n",
              "      <th>978</th>\n",
              "      <td>It fits so securely that the ear hook does not...</td>\n",
              "      <td>1</td>\n",
              "    </tr>\n",
              "    <tr>\n",
              "      <th>967</th>\n",
              "      <td>Beautiful styling though.</td>\n",
              "      <td>1</td>\n",
              "    </tr>\n",
              "    <tr>\n",
              "      <th>950</th>\n",
              "      <td>It is a joy to use.</td>\n",
              "      <td>0</td>\n",
              "    </tr>\n",
              "    <tr>\n",
              "      <th>961</th>\n",
              "      <td>I was very impressed with the price of the cases.</td>\n",
              "      <td>1</td>\n",
              "    </tr>\n",
              "    <tr>\n",
              "      <th>964</th>\n",
              "      <td>It's pretty easy.</td>\n",
              "      <td>1</td>\n",
              "    </tr>\n",
              "    <tr>\n",
              "      <th>982</th>\n",
              "      <td>don't waste your money.</td>\n",
              "      <td>0</td>\n",
              "    </tr>\n",
              "    <tr>\n",
              "      <th>976</th>\n",
              "      <td>SWEETEST PHONE!!!</td>\n",
              "      <td>1</td>\n",
              "    </tr>\n",
              "    <tr>\n",
              "      <th>996</th>\n",
              "      <td>What a piece of junk.. I lose more calls on th...</td>\n",
              "      <td>0</td>\n",
              "    </tr>\n",
              "    <tr>\n",
              "      <th>966</th>\n",
              "      <td>however, my girl was complain that some time t...</td>\n",
              "      <td>0</td>\n",
              "    </tr>\n",
              "    <tr>\n",
              "      <th>990</th>\n",
              "      <td>I'm really disappointed all I have now is a ch...</td>\n",
              "      <td>0</td>\n",
              "    </tr>\n",
              "    <tr>\n",
              "      <th>975</th>\n",
              "      <td>It is the best charger I have seen on the mark...</td>\n",
              "      <td>1</td>\n",
              "    </tr>\n",
              "    <tr>\n",
              "      <th>974</th>\n",
              "      <td>This phone tries very hard to do everything bu...</td>\n",
              "      <td>1</td>\n",
              "    </tr>\n",
              "    <tr>\n",
              "      <th>984</th>\n",
              "      <td>Adapter does not provide enough charging current.</td>\n",
              "      <td>0</td>\n",
              "    </tr>\n",
              "    <tr>\n",
              "      <th>987</th>\n",
              "      <td>Phone falls out easily.</td>\n",
              "      <td>0</td>\n",
              "    </tr>\n",
              "    <tr>\n",
              "      <th>962</th>\n",
              "      <td>Also makes it easier to hold on to.</td>\n",
              "      <td>1</td>\n",
              "    </tr>\n",
              "    <tr>\n",
              "      <th>963</th>\n",
              "      <td>I use this product in a motor control center w...</td>\n",
              "      <td>1</td>\n",
              "    </tr>\n",
              "    <tr>\n",
              "      <th>998</th>\n",
              "      <td>The only thing that disappoint me is the infra...</td>\n",
              "      <td>0</td>\n",
              "    </tr>\n",
              "    <tr>\n",
              "      <th>997</th>\n",
              "      <td>Item Does Not Match Picture.</td>\n",
              "      <td>0</td>\n",
              "    </tr>\n",
              "    <tr>\n",
              "      <th>955</th>\n",
              "      <td>Buttons are too small.</td>\n",
              "      <td>0</td>\n",
              "    </tr>\n",
              "    <tr>\n",
              "      <th>995</th>\n",
              "      <td>The screen does get smudged easily because it ...</td>\n",
              "      <td>1</td>\n",
              "    </tr>\n",
              "    <tr>\n",
              "      <th>993</th>\n",
              "      <td>disappointed.</td>\n",
              "      <td>0</td>\n",
              "    </tr>\n",
              "    <tr>\n",
              "      <th>957</th>\n",
              "      <td>Love it.. Great armband.</td>\n",
              "      <td>1</td>\n",
              "    </tr>\n",
              "    <tr>\n",
              "      <th>954</th>\n",
              "      <td>This is the phone to get for 2005.... I just b...</td>\n",
              "      <td>0</td>\n",
              "    </tr>\n",
              "    <tr>\n",
              "      <th>992</th>\n",
              "      <td>Lasted one day and then blew up.</td>\n",
              "      <td>1</td>\n",
              "    </tr>\n",
              "    <tr>\n",
              "      <th>980</th>\n",
              "      <td>Echo Problem....Very unsatisfactory</td>\n",
              "      <td>0</td>\n",
              "    </tr>\n",
              "    <tr>\n",
              "      <th>958</th>\n",
              "      <td>I really like this product over the Motorola b...</td>\n",
              "      <td>1</td>\n",
              "    </tr>\n",
              "    <tr>\n",
              "      <th>973</th>\n",
              "      <td>Lousy product.</td>\n",
              "      <td>0</td>\n",
              "    </tr>\n",
              "    <tr>\n",
              "      <th>960</th>\n",
              "      <td>I exchanged the sony ericson z500a for this an...</td>\n",
              "      <td>1</td>\n",
              "    </tr>\n",
              "    <tr>\n",
              "      <th>956</th>\n",
              "      <td>Just reading on the specs alone makes you say ...</td>\n",
              "      <td>0</td>\n",
              "    </tr>\n",
              "    <tr>\n",
              "      <th>986</th>\n",
              "      <td>You also cannot take pictures with it in the c...</td>\n",
              "      <td>1</td>\n",
              "    </tr>\n",
              "    <tr>\n",
              "      <th>971</th>\n",
              "      <td>Excellent product.</td>\n",
              "      <td>1</td>\n",
              "    </tr>\n",
              "    <tr>\n",
              "      <th>989</th>\n",
              "      <td>The text messaging feature is really tricky to...</td>\n",
              "      <td>0</td>\n",
              "    </tr>\n",
              "    <tr>\n",
              "      <th>972</th>\n",
              "      <td>Earbud piece breaks easily.</td>\n",
              "      <td>0</td>\n",
              "    </tr>\n",
              "    <tr>\n",
              "      <th>969</th>\n",
              "      <td>I'm trying to return it for a refund.</td>\n",
              "      <td>0</td>\n",
              "    </tr>\n",
              "    <tr>\n",
              "      <th>981</th>\n",
              "      <td>you could only take 2 videos at a time and the...</td>\n",
              "      <td>0</td>\n",
              "    </tr>\n",
              "    <tr>\n",
              "      <th>977</th>\n",
              "      <td>:-)Oh, the charger seems to work fine.</td>\n",
              "      <td>1</td>\n",
              "    </tr>\n",
              "    <tr>\n",
              "      <th>991</th>\n",
              "      <td>Painful on the ear.</td>\n",
              "      <td>1</td>\n",
              "    </tr>\n",
              "    <tr>\n",
              "      <th>983</th>\n",
              "      <td>I am going to have to be the first to negative...</td>\n",
              "      <td>0</td>\n",
              "    </tr>\n",
              "  </tbody>\n",
              "</table>\n",
              "</div>\n",
              "    <div class=\"colab-df-buttons\">\n",
              "\n",
              "  <div class=\"colab-df-container\">\n",
              "    <button class=\"colab-df-convert\" onclick=\"convertToInteractive('df-93cb0009-db7c-4cb9-85d7-4cbf11814d79')\"\n",
              "            title=\"Convert this dataframe to an interactive table.\"\n",
              "            style=\"display:none;\">\n",
              "\n",
              "  <svg xmlns=\"http://www.w3.org/2000/svg\" height=\"24px\" viewBox=\"0 -960 960 960\">\n",
              "    <path d=\"M120-120v-720h720v720H120Zm60-500h600v-160H180v160Zm220 220h160v-160H400v160Zm0 220h160v-160H400v160ZM180-400h160v-160H180v160Zm440 0h160v-160H620v160ZM180-180h160v-160H180v160Zm440 0h160v-160H620v160Z\"/>\n",
              "  </svg>\n",
              "    </button>\n",
              "\n",
              "  <style>\n",
              "    .colab-df-container {\n",
              "      display:flex;\n",
              "      gap: 12px;\n",
              "    }\n",
              "\n",
              "    .colab-df-convert {\n",
              "      background-color: #E8F0FE;\n",
              "      border: none;\n",
              "      border-radius: 50%;\n",
              "      cursor: pointer;\n",
              "      display: none;\n",
              "      fill: #1967D2;\n",
              "      height: 32px;\n",
              "      padding: 0 0 0 0;\n",
              "      width: 32px;\n",
              "    }\n",
              "\n",
              "    .colab-df-convert:hover {\n",
              "      background-color: #E2EBFA;\n",
              "      box-shadow: 0px 1px 2px rgba(60, 64, 67, 0.3), 0px 1px 3px 1px rgba(60, 64, 67, 0.15);\n",
              "      fill: #174EA6;\n",
              "    }\n",
              "\n",
              "    .colab-df-buttons div {\n",
              "      margin-bottom: 4px;\n",
              "    }\n",
              "\n",
              "    [theme=dark] .colab-df-convert {\n",
              "      background-color: #3B4455;\n",
              "      fill: #D2E3FC;\n",
              "    }\n",
              "\n",
              "    [theme=dark] .colab-df-convert:hover {\n",
              "      background-color: #434B5C;\n",
              "      box-shadow: 0px 1px 3px 1px rgba(0, 0, 0, 0.15);\n",
              "      filter: drop-shadow(0px 1px 2px rgba(0, 0, 0, 0.3));\n",
              "      fill: #FFFFFF;\n",
              "    }\n",
              "  </style>\n",
              "\n",
              "    <script>\n",
              "      const buttonEl =\n",
              "        document.querySelector('#df-93cb0009-db7c-4cb9-85d7-4cbf11814d79 button.colab-df-convert');\n",
              "      buttonEl.style.display =\n",
              "        google.colab.kernel.accessAllowed ? 'block' : 'none';\n",
              "\n",
              "      async function convertToInteractive(key) {\n",
              "        const element = document.querySelector('#df-93cb0009-db7c-4cb9-85d7-4cbf11814d79');\n",
              "        const dataTable =\n",
              "          await google.colab.kernel.invokeFunction('convertToInteractive',\n",
              "                                                    [key], {});\n",
              "        if (!dataTable) return;\n",
              "\n",
              "        const docLinkHtml = 'Like what you see? Visit the ' +\n",
              "          '<a target=\"_blank\" href=https://colab.research.google.com/notebooks/data_table.ipynb>data table notebook</a>'\n",
              "          + ' to learn more about interactive tables.';\n",
              "        element.innerHTML = '';\n",
              "        dataTable['output_type'] = 'display_data';\n",
              "        await google.colab.output.renderOutput(dataTable, element);\n",
              "        const docLink = document.createElement('div');\n",
              "        docLink.innerHTML = docLinkHtml;\n",
              "        element.appendChild(docLink);\n",
              "      }\n",
              "    </script>\n",
              "  </div>\n",
              "\n",
              "\n",
              "<div id=\"df-9a498cf8-16ff-4029-80d4-7b66aeaa99ea\">\n",
              "  <button class=\"colab-df-quickchart\" onclick=\"quickchart('df-9a498cf8-16ff-4029-80d4-7b66aeaa99ea')\"\n",
              "            title=\"Suggest charts\"\n",
              "            style=\"display:none;\">\n",
              "\n",
              "<svg xmlns=\"http://www.w3.org/2000/svg\" height=\"24px\"viewBox=\"0 0 24 24\"\n",
              "     width=\"24px\">\n",
              "    <g>\n",
              "        <path d=\"M19 3H5c-1.1 0-2 .9-2 2v14c0 1.1.9 2 2 2h14c1.1 0 2-.9 2-2V5c0-1.1-.9-2-2-2zM9 17H7v-7h2v7zm4 0h-2V7h2v10zm4 0h-2v-4h2v4z\"/>\n",
              "    </g>\n",
              "</svg>\n",
              "  </button>\n",
              "\n",
              "<style>\n",
              "  .colab-df-quickchart {\n",
              "      --bg-color: #E8F0FE;\n",
              "      --fill-color: #1967D2;\n",
              "      --hover-bg-color: #E2EBFA;\n",
              "      --hover-fill-color: #174EA6;\n",
              "      --disabled-fill-color: #AAA;\n",
              "      --disabled-bg-color: #DDD;\n",
              "  }\n",
              "\n",
              "  [theme=dark] .colab-df-quickchart {\n",
              "      --bg-color: #3B4455;\n",
              "      --fill-color: #D2E3FC;\n",
              "      --hover-bg-color: #434B5C;\n",
              "      --hover-fill-color: #FFFFFF;\n",
              "      --disabled-bg-color: #3B4455;\n",
              "      --disabled-fill-color: #666;\n",
              "  }\n",
              "\n",
              "  .colab-df-quickchart {\n",
              "    background-color: var(--bg-color);\n",
              "    border: none;\n",
              "    border-radius: 50%;\n",
              "    cursor: pointer;\n",
              "    display: none;\n",
              "    fill: var(--fill-color);\n",
              "    height: 32px;\n",
              "    padding: 0;\n",
              "    width: 32px;\n",
              "  }\n",
              "\n",
              "  .colab-df-quickchart:hover {\n",
              "    background-color: var(--hover-bg-color);\n",
              "    box-shadow: 0 1px 2px rgba(60, 64, 67, 0.3), 0 1px 3px 1px rgba(60, 64, 67, 0.15);\n",
              "    fill: var(--button-hover-fill-color);\n",
              "  }\n",
              "\n",
              "  .colab-df-quickchart-complete:disabled,\n",
              "  .colab-df-quickchart-complete:disabled:hover {\n",
              "    background-color: var(--disabled-bg-color);\n",
              "    fill: var(--disabled-fill-color);\n",
              "    box-shadow: none;\n",
              "  }\n",
              "\n",
              "  .colab-df-spinner {\n",
              "    border: 2px solid var(--fill-color);\n",
              "    border-color: transparent;\n",
              "    border-bottom-color: var(--fill-color);\n",
              "    animation:\n",
              "      spin 1s steps(1) infinite;\n",
              "  }\n",
              "\n",
              "  @keyframes spin {\n",
              "    0% {\n",
              "      border-color: transparent;\n",
              "      border-bottom-color: var(--fill-color);\n",
              "      border-left-color: var(--fill-color);\n",
              "    }\n",
              "    20% {\n",
              "      border-color: transparent;\n",
              "      border-left-color: var(--fill-color);\n",
              "      border-top-color: var(--fill-color);\n",
              "    }\n",
              "    30% {\n",
              "      border-color: transparent;\n",
              "      border-left-color: var(--fill-color);\n",
              "      border-top-color: var(--fill-color);\n",
              "      border-right-color: var(--fill-color);\n",
              "    }\n",
              "    40% {\n",
              "      border-color: transparent;\n",
              "      border-right-color: var(--fill-color);\n",
              "      border-top-color: var(--fill-color);\n",
              "    }\n",
              "    60% {\n",
              "      border-color: transparent;\n",
              "      border-right-color: var(--fill-color);\n",
              "    }\n",
              "    80% {\n",
              "      border-color: transparent;\n",
              "      border-right-color: var(--fill-color);\n",
              "      border-bottom-color: var(--fill-color);\n",
              "    }\n",
              "    90% {\n",
              "      border-color: transparent;\n",
              "      border-bottom-color: var(--fill-color);\n",
              "    }\n",
              "  }\n",
              "</style>\n",
              "\n",
              "  <script>\n",
              "    async function quickchart(key) {\n",
              "      const quickchartButtonEl =\n",
              "        document.querySelector('#' + key + ' button');\n",
              "      quickchartButtonEl.disabled = true;  // To prevent multiple clicks.\n",
              "      quickchartButtonEl.classList.add('colab-df-spinner');\n",
              "      try {\n",
              "        const charts = await google.colab.kernel.invokeFunction(\n",
              "            'suggestCharts', [key], {});\n",
              "      } catch (error) {\n",
              "        console.error('Error during call to suggestCharts:', error);\n",
              "      }\n",
              "      quickchartButtonEl.classList.remove('colab-df-spinner');\n",
              "      quickchartButtonEl.classList.add('colab-df-quickchart-complete');\n",
              "    }\n",
              "    (() => {\n",
              "      let quickchartButtonEl =\n",
              "        document.querySelector('#df-9a498cf8-16ff-4029-80d4-7b66aeaa99ea button');\n",
              "      quickchartButtonEl.style.display =\n",
              "        google.colab.kernel.accessAllowed ? 'block' : 'none';\n",
              "    })();\n",
              "  </script>\n",
              "</div>\n",
              "    </div>\n",
              "  </div>\n"
            ],
            "text/plain": [
              "                                           review_text  pred\n",
              "979                                 Not enough volume.     0\n",
              "959  However, the keypads are so tinny that I somet...     0\n",
              "988  It didn't work, people can not hear me when I ...     0\n",
              "985  There was so much hype over this phone that I ...     1\n",
              "994                              Kind of flops around.     0\n",
              "999  You can not answer calls with the unit, never ...     0\n",
              "965             I cannot make calls at certain places.     0\n",
              "970  I plugged it in only to find out not a darn th...     0\n",
              "952                          Very satisifed with that.     1\n",
              "953                           It didn't charge for me.     0\n",
              "951          Very much disappointed with this company.     0\n",
              "968  This company charge me a restocking fee and st...     0\n",
              "978  It fits so securely that the ear hook does not...     1\n",
              "967                          Beautiful styling though.     1\n",
              "950                                It is a joy to use.     0\n",
              "961  I was very impressed with the price of the cases.     1\n",
              "964                                  It's pretty easy.     1\n",
              "982                            don't waste your money.     0\n",
              "976                                  SWEETEST PHONE!!!     1\n",
              "996  What a piece of junk.. I lose more calls on th...     0\n",
              "966  however, my girl was complain that some time t...     0\n",
              "990  I'm really disappointed all I have now is a ch...     0\n",
              "975  It is the best charger I have seen on the mark...     1\n",
              "974  This phone tries very hard to do everything bu...     1\n",
              "984  Adapter does not provide enough charging current.     0\n",
              "987                            Phone falls out easily.     0\n",
              "962                Also makes it easier to hold on to.     1\n",
              "963  I use this product in a motor control center w...     1\n",
              "998  The only thing that disappoint me is the infra...     0\n",
              "997                       Item Does Not Match Picture.     0\n",
              "955                             Buttons are too small.     0\n",
              "995  The screen does get smudged easily because it ...     1\n",
              "993                                      disappointed.     0\n",
              "957                           Love it.. Great armband.     1\n",
              "954  This is the phone to get for 2005.... I just b...     0\n",
              "992                   Lasted one day and then blew up.     1\n",
              "980                Echo Problem....Very unsatisfactory     0\n",
              "958  I really like this product over the Motorola b...     1\n",
              "973                                     Lousy product.     0\n",
              "960  I exchanged the sony ericson z500a for this an...     1\n",
              "956  Just reading on the specs alone makes you say ...     0\n",
              "986  You also cannot take pictures with it in the c...     1\n",
              "971                                 Excellent product.     1\n",
              "989  The text messaging feature is really tricky to...     0\n",
              "972                        Earbud piece breaks easily.     0\n",
              "969              I'm trying to return it for a refund.     0\n",
              "981  you could only take 2 videos at a time and the...     0\n",
              "977             :-)Oh, the charger seems to work fine.     1\n",
              "991                                Painful on the ear.     1\n",
              "983  I am going to have to be the first to negative...     0"
            ]
          },
          "execution_count": 430,
          "metadata": {},
          "output_type": "execute_result"
        }
      ],
      "source": [
        "new_df\n"
      ]
    },
    {
      "cell_type": "markdown",
      "metadata": {
        "id": "H_mYztSUgjxJ"
      },
      "source": [
        "# 10. Saving Model"
      ]
    },
    {
      "cell_type": "code",
      "execution_count": 426,
      "metadata": {
        "colab": {
          "base_uri": "https://localhost:8080/"
        },
        "execution": {
          "iopub.execute_input": "2022-12-22T10:52:50.180781Z",
          "iopub.status.busy": "2022-12-22T10:52:50.180198Z",
          "iopub.status.idle": "2022-12-22T10:52:51.458204Z",
          "shell.execute_reply": "2022-12-22T10:52:51.457467Z",
          "shell.execute_reply.started": "2022-12-22T10:52:50.180737Z"
        },
        "id": "Xxw9axhUgjxJ",
        "outputId": "4fdad5c4-e18f-4a11-bd97-2f0283fb0ea9",
        "trusted": true
      },
      "outputs": [
        {
          "name": "stderr",
          "output_type": "stream",
          "text": [
            "/usr/local/lib/python3.10/dist-packages/keras/src/engine/training.py:3079: UserWarning: You are saving your model as an HDF5 file via `model.save()`. This file format is considered legacy. We recommend using instead the native Keras format, e.g. `model.save('my_model.keras')`.\n",
            "  saving_api.save_model(\n"
          ]
        }
      ],
      "source": [
        "model.save('/content/drive/MyDrive/DEEP LEARNING/Binary_Classification_86_CNN.h5')"
      ]
    },
    {
      "cell_type": "code",
      "execution_count": 431,
      "metadata": {
        "colab": {
          "base_uri": "https://localhost:8080/"
        },
        "id": "ziLuIrQ8wasn",
        "outputId": "f38db2b3-65bb-41fa-fdfc-77af93572c6b"
      },
      "outputs": [
        {
          "name": "stdout",
          "output_type": "stream",
          "text": [
            "/content/drive/MyDrive/DEEP LEARNING\n"
          ]
        }
      ],
      "source": [
        "%cd /content/drive/MyDrive/DEEP LEARNING"
      ]
    },
    {
      "cell_type": "code",
      "execution_count": 432,
      "metadata": {
        "id": "rKntBnkox3M7"
      },
      "outputs": [],
      "source": [
        "!pip freeze > '/content/drive/MyDrive/DEEP LEARNING/requirements.txt'\n"
      ]
    }
  ],
  "metadata": {
    "colab": {
      "provenance": []
    },
    "kernelspec": {
      "display_name": "Python 3",
      "language": "python",
      "name": "python3"
    },
    "language_info": {
      "codemirror_mode": {
        "name": "ipython",
        "version": 3
      },
      "file_extension": ".py",
      "mimetype": "text/x-python",
      "name": "python",
      "nbconvert_exporter": "python",
      "pygments_lexer": "ipython3",
      "version": "3.7.12"
    }
  },
  "nbformat": 4,
  "nbformat_minor": 0
}
